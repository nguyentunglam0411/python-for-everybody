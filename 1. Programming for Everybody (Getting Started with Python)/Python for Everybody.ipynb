{
 "cells": [
  {
   "cell_type": "markdown",
   "id": "0e85af1b",
   "metadata": {},
   "source": [
    "**Chapter 1.**"
   ]
  },
  {
   "cell_type": "markdown",
   "id": "52f6b644",
   "metadata": {},
   "source": [
    "**Chapter 2. Variables, Expressions, and Statements**\n",
    "<br>\n",
    "*Constants*\n",
    "- Fixed values such as numbers, letters, and strings, are called \"constants\" because their value does not change.\n",
    "- Numeric constants are as you expect.\n",
    "- String constants use single quotes (') or double quotes (\"\")"
   ]
  },
  {
   "cell_type": "code",
   "execution_count": 9,
   "id": "b7dc5b5d",
   "metadata": {
    "scrolled": false
   },
   "outputs": [
    {
     "name": "stdout",
     "output_type": "stream",
     "text": [
      "123\n",
      "98.6\n",
      "Hello world\n"
     ]
    }
   ],
   "source": [
    "print(123)\n",
    "print(98.6)\n",
    "print('Hello world')"
   ]
  },
  {
   "cell_type": "markdown",
   "id": "02ebf62f",
   "metadata": {},
   "source": [
    "Reserved Words: You cannot use reserved words as variable names/ identifiers:\n",
    "- False, None, True, and, as, assert, break\n",
    "- class, if, def, del, elif, else, except\n",
    "- return, for, from, global, try, import, in\n",
    "- iss, lambda, while, not, or, pass, raise\n",
    "- finally, continue, nonlocal, with, yield"
   ]
  },
  {
   "cell_type": "markdown",
   "id": "d07cff44",
   "metadata": {},
   "source": [
    "*Variables*\n",
    "<br>\n",
    "- A variable is a named plave in the memory where a programmer can store data and later retrieve the data using the variable \"name\".\n",
    "- Programmers get to choose the names of the variables.\n",
    "- You can change the contents of a variable in a later statement"
   ]
  },
  {
   "cell_type": "code",
   "execution_count": 8,
   "id": "5830925c",
   "metadata": {},
   "outputs": [
    {
     "name": "stdout",
     "output_type": "stream",
     "text": [
      "12.2\n",
      "14\n"
     ]
    }
   ],
   "source": [
    "x = 12.2\n",
    "y = 14\n",
    "print(x)\n",
    "print(y)"
   ]
  },
  {
   "cell_type": "markdown",
   "id": "bbefe86b",
   "metadata": {},
   "source": [
    "Python Variable Name Rules:\n",
    "- Must start with a letter or underscore _\n",
    "- Must consist of letters, numbers, and underscores\n",
    "<br>*Examples:*\n",
    "- Good: spam, eggs, spam23, _spam\n",
    "- Bad: 23spam, #sign, var.12\n",
    "- Different: spam, Spam, SPAM"
   ]
  },
  {
   "cell_type": "code",
   "execution_count": null,
   "id": "d486744c",
   "metadata": {},
   "outputs": [],
   "source": []
  },
  {
   "cell_type": "code",
   "execution_count": null,
   "id": "388a3a94",
   "metadata": {},
   "outputs": [],
   "source": []
  }
 ],
 "metadata": {
  "kernelspec": {
   "display_name": "Python 3 (ipykernel)",
   "language": "python",
   "name": "python3"
  },
  "language_info": {
   "codemirror_mode": {
    "name": "ipython",
    "version": 3
   },
   "file_extension": ".py",
   "mimetype": "text/x-python",
   "name": "python",
   "nbconvert_exporter": "python",
   "pygments_lexer": "ipython3",
   "version": "3.9.7"
  }
 },
 "nbformat": 4,
 "nbformat_minor": 5
}
